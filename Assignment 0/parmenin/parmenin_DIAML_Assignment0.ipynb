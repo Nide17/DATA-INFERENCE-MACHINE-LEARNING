{
 "cells": [
  {
   "cell_type": "code",
   "execution_count": 26,
   "id": "894a5bc3",
   "metadata": {},
   "outputs": [],
   "source": [
    "import math              # Importing the math library\n",
    "import numpy as np       # Importing the numpy library"
   ]
  },
  {
   "cell_type": "code",
   "execution_count": 27,
   "id": "7864decb",
   "metadata": {},
   "outputs": [
    {
     "name": "stdout",
     "output_type": "stream",
     "text": [
      "Hello Data Inference and Applied Machine Learning\n"
     ]
    }
   ],
   "source": [
    "print(\"Hello Data Inference and Applied Machine Learning\")        # Printing the string"
   ]
  },
  {
   "cell_type": "code",
   "execution_count": 28,
   "id": "3f2c1a02",
   "metadata": {},
   "outputs": [
    {
     "name": "stdout",
     "output_type": "stream",
     "text": [
      "3.141592653589793\n",
      "3.141592653589793\n",
      "3.141592653589793\n"
     ]
    }
   ],
   "source": [
    "Pi = 3.141592653589793   # Denoted by π, it is a mathematical constant\n",
    "print(Pi)                # Printing the value of Pi\n",
    "print(np.pi)             # Printing Pi available in numpy library\n",
    "print(math.pi)           # Printing Pi available in math library"
   ]
  },
  {
   "cell_type": "code",
   "execution_count": 29,
   "id": "dca2b0e0",
   "metadata": {},
   "outputs": [
    {
     "name": "stdout",
     "output_type": "stream",
     "text": [
      "2.718281828459045\n",
      "2.718281828459045\n",
      "2.718281828459045\n"
     ]
    }
   ],
   "source": [
    "e = 2.718281828459045    # Euler's constant (e), a mathematical constant, the base of the natural logarithms.\n",
    "print(e)                 # Printing the value of e\n",
    "print(np.exp(1))         # Printing value of e through numpy library\n",
    "print(math.e)            # Printing value of e through math library"
   ]
  },
  {
   "cell_type": "code",
   "execution_count": 30,
   "id": "6bb7c9ae",
   "metadata": {},
   "outputs": [
    {
     "name": "stdout",
     "output_type": "stream",
     "text": [
      "1.618033988749895\n",
      "1.618033988749895\n"
     ]
    }
   ],
   "source": [
    "# Two numbers are in the golden ratio if their ratio is the same as the ratio of their sum to the larger of the two quantities.\n",
    "phi = 1.618033988749895 # Formula: ((a +b) / a) = a/b = phi  i.e. a>b>0\n",
    "phi1 = ( 1 + math.sqrt(5) ) / 2   # calculating the value of phi\n",
    "\n",
    "print(phi)              # Printing the phi's value\n",
    "print(phi1)             # Printing the phi's value"
   ]
  },
  {
   "cell_type": "code",
   "execution_count": 25,
   "id": "71d795c2",
   "metadata": {},
   "outputs": [
    {
     "name": "stdout",
     "output_type": "stream",
     "text": [
      "The sum of the three constants is: 7.477908470798733\n"
     ]
    }
   ],
   "source": [
    "# Printing the sum of three constants\n",
    "sum3 = Pi + e + phi                                     # Summing up the constants\n",
    "print(\"The sum of the three constants is:\", sum3)       # Printing the sum of the constants"
   ]
  },
  {
   "cell_type": "code",
   "execution_count": null,
   "id": "b64059e5",
   "metadata": {},
   "outputs": [],
   "source": []
  }
 ],
 "metadata": {
  "kernelspec": {
   "display_name": "Python 3 (ipykernel)",
   "language": "python",
   "name": "python3"
  },
  "language_info": {
   "codemirror_mode": {
    "name": "ipython",
    "version": 3
   },
   "file_extension": ".py",
   "mimetype": "text/x-python",
   "name": "python",
   "nbconvert_exporter": "python",
   "pygments_lexer": "ipython3",
   "version": "3.10.6"
  }
 },
 "nbformat": 4,
 "nbformat_minor": 5
}
