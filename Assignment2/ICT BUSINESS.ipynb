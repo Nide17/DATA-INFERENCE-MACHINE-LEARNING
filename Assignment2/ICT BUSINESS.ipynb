{
 "cells": [
  {
   "cell_type": "code",
   "execution_count": null,
   "id": "45a1ab7e",
   "metadata": {},
   "outputs": [],
   "source": [
    "import numpy as np\n",
    "import pandas as pd\n",
    "import matplotlib.pyplot as plt\n",
    "%matplotlib inline\n",
    "ict = pd.read_excel('Financial Statements.xlsx', sheet_name = 'Demand and supply') \n",
    "ict\n",
    "# Plotting: Defining figure properties\n",
    "plt.figure(figsize = (12, 5), edgecolor = 'r', facecolor = 'y', linewidth = 1)\n",
    "\n",
    "# Adding the title and labels to the plot\n",
    "plt.title(\"Demand and Supply Reusable Face Cloth Mask\")\n",
    "plt.xlabel(\"Demand and Supply\")\n",
    "plt.ylabel(\"Price\") \n",
    "plt.plot(ict['Demand'], ict['Price'], label = 'Demand', color = 'green')\n",
    "plt.plot(ict['Supply'], ict['Price'], label = 'Demand', color = 'red')\n",
    "plt.scatter(130, 6.5, marker = 'o', color = 'blue')\n",
    "plt.annotate('Market Equilibrium', xy = (130, 6.5),  xytext = (140, 6),  arrowprops = dict(arrowstyle = \"fancy\", connectionstyle = \"arc3\"))\n",
    "\n",
    "plt.legend()\n",
    "plt.show()"
   ]
  }
 ],
 "metadata": {
  "kernelspec": {
   "display_name": "Python 3 (ipykernel)",
   "language": "python",
   "name": "python3"
  },
  "language_info": {
   "codemirror_mode": {
    "name": "ipython",
    "version": 3
   },
   "file_extension": ".py",
   "mimetype": "text/x-python",
   "name": "python",
   "nbconvert_exporter": "python",
   "pygments_lexer": "ipython3",
   "version": "3.10.6"
  }
 },
 "nbformat": 4,
 "nbformat_minor": 5
}
