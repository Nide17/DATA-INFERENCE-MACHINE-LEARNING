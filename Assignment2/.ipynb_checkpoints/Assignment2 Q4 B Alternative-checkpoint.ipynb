{
 "cells": [
  {
   "cell_type": "code",
   "execution_count": null,
   "id": "48183780",
   "metadata": {},
   "outputs": [],
   "source": [
    "# Extracting only Country Name and the year 2010 and 1990 to use\n",
    "fertExtracted1990 = fertilityRate[['Country Name', '1990']]\n",
    "fertExtracted2010 = fertilityRate[['Country Name', '2010']]\n",
    "\n",
    "# Sorting the data to use while plotting the distribution\n",
    "fertSorted1990 = np.sort(fertExtracted1990['1990'])\n",
    "fertSorted2010 = np.sort(fertExtracted2010['2010'])\n",
    "\n",
    "# Finding the fertility rate's cumulative distribution functions for 1990 & 2010\n",
    "fertCDF1990 = np.cumsum(fertSorted1990) / fertExtracted1990['1990'].sum()\n",
    "fertCDF2010 = np.cumsum(fertSorted2010) / fertExtracted2010['2010'].sum()\n",
    "\n",
    "# Finding the mean\n",
    "mean1990 = fertExtracted1990['1990'].mean()\n",
    "mean2010 = fertExtracted2010['2010'].mean()\n",
    "\n",
    "# Finding the median\n",
    "median1990 = fertExtracted1990['1990'].median()\n",
    "median2010 = fertExtracted2010['2010'].median()\n",
    "\n",
    "# Plotting: Defining figure properties\n",
    "plt.figure(figsize = (14, 8), edgecolor = 'r', facecolor = 'y', linewidth = 1)\n",
    "\n",
    "# Plotting on the same axes cumulative distribution functions for the fertility rate variable using 1990 & 2010 data\n",
    "plt.plot(fertSorted1990, fertCDF1990, color = 'black', label = 'Year 1990 distribution')\n",
    "plt.plot(fertSorted2010, fertCDF2010, color = 'green', label = 'Year 2010 distribution')\n",
    "\n",
    "# Plotting the mean using vertical lines \n",
    "plt.axvline(x = mean1990, color = 'red', label = 'Mean for 1990', linestyle = '-', linewidth = 1.5, ymin = 0.02, ymax = 0.97)\n",
    "plt.axvline(x = mean2010, color = 'blue', label = 'Mean for 2010', linestyle = '-', linewidth = 1.5, ymin = 0.02, ymax = 0.97)\n",
    "\n",
    "# Plotting the median using vertical lines \n",
    "plt.axvline(x = median1990, color = 'pink', label = 'Median for 1990', linestyle = '-', linewidth = 1.5, ymin = 0.02, ymax = 0.97)\n",
    "plt.axvline(x = median2010, color = 'aqua', label = 'Median for 2010', linestyle = '-', linewidth=1.5, ymin = 0.02, ymax = 0.97)\n",
    "\n",
    "# Adding the title and labels to the plot\n",
    "plt.title(\"CUMULATIVE DISTRIBUTION FUNCTIONS FOR THE FERTILITY RATE IN 1990 & 2010\")\n",
    "plt.ylabel(\"CUMULATIVE DISTRIBUTION\")\n",
    "plt.xlabel(\"FERTILITY RATE\")\n",
    "\n",
    "plt.legend()\n",
    "plt.show()"
   ]
  }
 ],
 "metadata": {
  "kernelspec": {
   "display_name": "Python 3 (ipykernel)",
   "language": "python",
   "name": "python3"
  },
  "language_info": {
   "codemirror_mode": {
    "name": "ipython",
    "version": 3
   },
   "file_extension": ".py",
   "mimetype": "text/x-python",
   "name": "python",
   "nbconvert_exporter": "python",
   "pygments_lexer": "ipython3",
   "version": "3.9.12"
  }
 },
 "nbformat": 4,
 "nbformat_minor": 5
}
