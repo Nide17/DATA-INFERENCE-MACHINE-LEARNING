{
 "cells": [
  {
   "cell_type": "code",
   "execution_count": null,
   "id": "b75be766",
   "metadata": {},
   "outputs": [],
   "source": [
    "# DRAFT\n",
    "# for ele in enumerate(mPSliced):\n",
    "#     print (ele)\n",
    "\n",
    "# list_of_tuples = list(zip(mPSliced, gpSliced))\n",
    "\n",
    "# for ele in enumerate(list_of_tuples):\n",
    "#     plt.scatter(ele[1][0], ele[1][1])\n",
    "# #     print(ele[1][0])\n",
    "# #     print(ele[1][1])\n",
    "# # plt.scatter(mPSliced, gpSliced)\n",
    "\n",
    "#  Use zipping, ennumerate ?? iloc??\n",
    "\n",
    "\n",
    "# malnutritionPrevalence = pd.read_csv('malnutritionPrevalence.csv', skiprows = 3)  # Reading nutrition data from excel file\n",
    "# gdpPerCapita = pd.read_csv('gdpPerCapita.csv', skiprows = 3)                      # Reading gdp data from excel file\n",
    "\n",
    "\n",
    "# print(len(gdpPerCapita))\n",
    "# print(len(malnutritionPrevalence))\n",
    "# titlesMP = malnutritionPrevalence.columns\n",
    "\n",
    "# plt.figure(figsize = (11, 5), edgecolor = 'r', facecolor = 'y', linewidth = 1)\n",
    "\n",
    "# for i in range(4, (len(titlesMP)-1)):\n",
    "#     plt.scatter(gdpPerCapita[titlesMP[i]], malnutritionPrevalence[titlesMP[i]], color = 'blue')\n",
    "\n",
    "# for ele in enumerate(malnutritionPrevalence):\n",
    "#     print (ele)\n",
    "\n",
    "# for x in range(269):\n",
    "#     list_of_tuples = list(zip(malnutritionPrevalence.loc[x], gdpPerCapita.loc[x]))\n",
    "\n",
    "#     for i in range(4, len(list_of_tuples)-1):\n",
    "#             plt.scatter(list_of_tuples[i][0], list_of_tuples[i][1])\n",
    "\n",
    "# plt.show()\n"
   ]
  }
 ],
 "metadata": {
  "kernelspec": {
   "display_name": "Python 3 (ipykernel)",
   "language": "python",
   "name": "python3"
  },
  "language_info": {
   "codemirror_mode": {
    "name": "ipython",
    "version": 3
   },
   "file_extension": ".py",
   "mimetype": "text/x-python",
   "name": "python",
   "nbconvert_exporter": "python",
   "pygments_lexer": "ipython3",
   "version": "3.10.6"
  }
 },
 "nbformat": 4,
 "nbformat_minor": 5
}
