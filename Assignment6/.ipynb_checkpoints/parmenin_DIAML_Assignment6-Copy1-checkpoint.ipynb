{
 "cells": [
  {
   "cell_type": "code",
   "execution_count": 93,
   "id": "f7e247fb",
   "metadata": {},
   "outputs": [],
   "source": [
    "# Importing libraries to use\n",
    "import pandas as pd\n",
    "import numpy as np\n",
    "\n",
    "from sklearn import tree\n",
    "from sklearn.preprocessing import LabelEncoder\n",
    "from sklearn.model_selection import train_test_split\n",
    "from sklearn.metrics import confusion_matrix, accuracy_score\n",
    "\n",
    "# !pip install pydotplus\n",
    "import pydotplus\n",
    "\n",
    "# !pip install graphviz\n",
    "import graphviz\n",
    "\n",
    "# !pip install pydot \n",
    "import pydot\n",
    "from IPython.display import Image\n",
    "\n",
    "# !pip install six\n",
    "from six import StringIO"
   ]
  },
  {
   "cell_type": "markdown",
   "id": "8c185e96",
   "metadata": {},
   "source": [
    "### Question 1: Statistical learning"
   ]
  },
  {
   "cell_type": "code",
   "execution_count": null,
   "id": "fcfb8ed6",
   "metadata": {},
   "outputs": [],
   "source": []
  },
  {
   "cell_type": "markdown",
   "id": "ec3ffd71",
   "metadata": {},
   "source": [
    "### Question 2: MACHINE LEARNING"
   ]
  },
  {
   "cell_type": "code",
   "execution_count": 106,
   "id": "e159c7b6",
   "metadata": {},
   "outputs": [
    {
     "data": {
      "text/plain": [
       "((916, 4), (393, 4))"
      ]
     },
     "execution_count": 106,
     "metadata": {},
     "output_type": "execute_result"
    }
   ],
   "source": [
    "# https://medium.com/chinmaygaikwad/build-and-visualize-a-simple-decision-tree-using-sklearn-and-graphviz-84bda6b6b894\n",
    "# 2.3 Consider the challenge of classifying the likelihood of survival using the Titanic dataset.\n",
    "# Construct a decision tree and display the structure of this tree using a graphic.\n",
    "\n",
    "# LOADING THE TITANIC DATA & EXTRACTING (age, sex, pclass, survived)\n",
    "titanic = pd.read_csv('titanic3.csv')\n",
    "titanic = titanicNoNaN[['age','sex','pclass','survived']]\n",
    "\n",
    "meanAge = titanic['age'].mean()                  # CALCULATING THE MEAN AGE\n",
    "\n",
    "titanicNoNaN = titanic.fillna(meanAge)           # FILLING NAN VALUES - BCZ ONLY AGE COLUMN HAS NANS - USE THE WHOLE DATASET\n",
    "\n",
    "# TRANSFORMING sex CATEGORIES INTO NUMERICAL VALUES\n",
    "# Fit label encoder and return encoded labels: MAKING females:0 and males:1\n",
    "titanicNoNaN['sex'] = LabelEncoder().fit_transform(titanicNoNaN['sex'])\n",
    "\n",
    "x = titanicNoNaN[['age','sex','pclass']]\n",
    "y = titanicNoNaN['survived']\n",
    "\n",
    "# Train Test Split\n",
    "# X_train, X_test, y_train, y_test = train_test_split(x, y, train_size=0.7, random_state=42)\n",
    "# X_train.shape, X_test.shape"
   ]
  },
  {
   "cell_type": "code",
   "execution_count": 95,
   "id": "ae5727ad",
   "metadata": {},
   "outputs": [
    {
     "data": {
      "text/html": [
       "<style>#sk-container-id-8 {color: black;background-color: white;}#sk-container-id-8 pre{padding: 0;}#sk-container-id-8 div.sk-toggleable {background-color: white;}#sk-container-id-8 label.sk-toggleable__label {cursor: pointer;display: block;width: 100%;margin-bottom: 0;padding: 0.3em;box-sizing: border-box;text-align: center;}#sk-container-id-8 label.sk-toggleable__label-arrow:before {content: \"▸\";float: left;margin-right: 0.25em;color: #696969;}#sk-container-id-8 label.sk-toggleable__label-arrow:hover:before {color: black;}#sk-container-id-8 div.sk-estimator:hover label.sk-toggleable__label-arrow:before {color: black;}#sk-container-id-8 div.sk-toggleable__content {max-height: 0;max-width: 0;overflow: hidden;text-align: left;background-color: #f0f8ff;}#sk-container-id-8 div.sk-toggleable__content pre {margin: 0.2em;color: black;border-radius: 0.25em;background-color: #f0f8ff;}#sk-container-id-8 input.sk-toggleable__control:checked~div.sk-toggleable__content {max-height: 200px;max-width: 100%;overflow: auto;}#sk-container-id-8 input.sk-toggleable__control:checked~label.sk-toggleable__label-arrow:before {content: \"▾\";}#sk-container-id-8 div.sk-estimator input.sk-toggleable__control:checked~label.sk-toggleable__label {background-color: #d4ebff;}#sk-container-id-8 div.sk-label input.sk-toggleable__control:checked~label.sk-toggleable__label {background-color: #d4ebff;}#sk-container-id-8 input.sk-hidden--visually {border: 0;clip: rect(1px 1px 1px 1px);clip: rect(1px, 1px, 1px, 1px);height: 1px;margin: -1px;overflow: hidden;padding: 0;position: absolute;width: 1px;}#sk-container-id-8 div.sk-estimator {font-family: monospace;background-color: #f0f8ff;border: 1px dotted black;border-radius: 0.25em;box-sizing: border-box;margin-bottom: 0.5em;}#sk-container-id-8 div.sk-estimator:hover {background-color: #d4ebff;}#sk-container-id-8 div.sk-parallel-item::after {content: \"\";width: 100%;border-bottom: 1px solid gray;flex-grow: 1;}#sk-container-id-8 div.sk-label:hover label.sk-toggleable__label {background-color: #d4ebff;}#sk-container-id-8 div.sk-serial::before {content: \"\";position: absolute;border-left: 1px solid gray;box-sizing: border-box;top: 0;bottom: 0;left: 50%;z-index: 0;}#sk-container-id-8 div.sk-serial {display: flex;flex-direction: column;align-items: center;background-color: white;padding-right: 0.2em;padding-left: 0.2em;position: relative;}#sk-container-id-8 div.sk-item {position: relative;z-index: 1;}#sk-container-id-8 div.sk-parallel {display: flex;align-items: stretch;justify-content: center;background-color: white;position: relative;}#sk-container-id-8 div.sk-item::before, #sk-container-id-8 div.sk-parallel-item::before {content: \"\";position: absolute;border-left: 1px solid gray;box-sizing: border-box;top: 0;bottom: 0;left: 50%;z-index: -1;}#sk-container-id-8 div.sk-parallel-item {display: flex;flex-direction: column;z-index: 1;position: relative;background-color: white;}#sk-container-id-8 div.sk-parallel-item:first-child::after {align-self: flex-end;width: 50%;}#sk-container-id-8 div.sk-parallel-item:last-child::after {align-self: flex-start;width: 50%;}#sk-container-id-8 div.sk-parallel-item:only-child::after {width: 0;}#sk-container-id-8 div.sk-dashed-wrapped {border: 1px dashed gray;margin: 0 0.4em 0.5em 0.4em;box-sizing: border-box;padding-bottom: 0.4em;background-color: white;}#sk-container-id-8 div.sk-label label {font-family: monospace;font-weight: bold;display: inline-block;line-height: 1.2em;}#sk-container-id-8 div.sk-label-container {text-align: center;}#sk-container-id-8 div.sk-container {/* jupyter's `normalize.less` sets `[hidden] { display: none; }` but bootstrap.min.css set `[hidden] { display: none !important; }` so we also need the `!important` here to be able to override the default hidden behavior on the sphinx rendered scikit-learn.org. See: https://github.com/scikit-learn/scikit-learn/issues/21755 */display: inline-block !important;position: relative;}#sk-container-id-8 div.sk-text-repr-fallback {display: none;}</style><div id=\"sk-container-id-8\" class=\"sk-top-container\"><div class=\"sk-text-repr-fallback\"><pre>DecisionTreeClassifier(max_depth=8, random_state=43)</pre><b>In a Jupyter environment, please rerun this cell to show the HTML representation or trust the notebook. <br />On GitHub, the HTML representation is unable to render, please try loading this page with nbviewer.org.</b></div><div class=\"sk-container\" hidden><div class=\"sk-item\"><div class=\"sk-estimator sk-toggleable\"><input class=\"sk-toggleable__control sk-hidden--visually\" id=\"sk-estimator-id-8\" type=\"checkbox\" checked><label for=\"sk-estimator-id-8\" class=\"sk-toggleable__label sk-toggleable__label-arrow\">DecisionTreeClassifier</label><div class=\"sk-toggleable__content\"><pre>DecisionTreeClassifier(max_depth=8, random_state=43)</pre></div></div></div></div></div>"
      ],
      "text/plain": [
       "DecisionTreeClassifier(max_depth=8, random_state=43)"
      ]
     },
     "execution_count": 95,
     "metadata": {},
     "output_type": "execute_result"
    }
   ],
   "source": [
    "# Model Building\n",
    "dTree = tree.DecisionTreeClassifier(max_depth=8, random_state=43)\n",
    "dTree.fit(X_train, y_train)\n",
    "\n",
    "dt = DecisionTreeClassifier(max_depth=3,random_state=43)\n",
    "dt.fit(X_train, y_train)\n"
   ]
  },
  {
   "cell_type": "code",
   "execution_count": 96,
   "id": "d5274875",
   "metadata": {},
   "outputs": [
    {
     "data": {
      "image/png": "[encoded data removed]",
      "text/plain": [
       "<IPython.core.display.Image object>"
      ]
     },
     "execution_count": 96,
     "metadata": {},
     "output_type": "execute_result"
    }
   ],
   "source": [
    "# Visualization of Tree\n",
    "dot_data = StringIO()  \n",
    "\n",
    "tree.export_graphviz(dTree, out_file = dot_data, filled = True, rounded = True, \n",
    "                     feature_names = x.columns, class_names=['Female', \"Male\"])\n",
    "\n",
    "graph = pydotplus.graph_from_dot_data(dot_data.getvalue())\n",
    "Image(graph.create_png())"
   ]
  },
  {
   "cell_type": "code",
   "execution_count": 100,
   "id": "3aa714b4",
   "metadata": {},
   "outputs": [],
   "source": [
    "# Model Evaluation\n",
    "\n",
    "# Lets predict\n",
    "y_train_pred = dTree.predict(X_train)\n",
    "y_test_pred = dTree.predict(X_test)"
   ]
  },
  {
   "cell_type": "code",
   "execution_count": 102,
   "id": "9d1c925a",
   "metadata": {},
   "outputs": [],
   "source": [
    "# Let's check the overall accuracy.\n",
    "trainaccuracy= accuracy_score(y_train, y_train_pred)\n",
    "testaccuracy= accuracy_score(y_test, y_test_pred)\n",
    "\n",
    "confusion_TRN = confusion_matrix(y_train, y_train_pred)\n",
    "confusion_TST = confusion_matrix(y_test, y_test_pred)"
   ]
  },
  {
   "cell_type": "code",
   "execution_count": 103,
   "id": "7c10a2cd",
   "metadata": {},
   "outputs": [
    {
     "name": "stdout",
     "output_type": "stream",
     "text": [
      "------------------------------\n",
      "On Train Data\n",
      "------------------------------\n",
      "Accuracy    : 100.0 %\n",
      "Sensitivity : 100.0 %\n",
      "Specificity : 100.0 %\n",
      "------------------------------\n",
      "On Test Data\n",
      "------------------------------\n",
      "Accuracy    : 100.0 %\n",
      "Sensitivity : 100.0 %\n",
      "Specificity : 100.0 %\n",
      "------------------------------\n"
     ]
    }
   ],
   "source": [
    "TP = confusion_TRN[1,1] # true positive \n",
    "TN = confusion_TRN[0,0] # true negatives\n",
    "FP = confusion_TRN[0,1] # false positives\n",
    "FN = confusion_TRN[1,0] # false negatives\n",
    "\n",
    "TP_TST = confusion_TST[1,1] # true positive \n",
    "TN_TST = confusion_TST[0,0] # true negatives\n",
    "FP_TST = confusion_TST[0,1] # false positives\n",
    "FN_TST = confusion_TST[1,0] # false negatives\n",
    "\n",
    "trainsensitivity= TP / float(TP+FN)\n",
    "trainspecificity= TN / float(TN+FP)\n",
    "\n",
    "testsensitivity= TP_TST / float(TP_TST+FN_TST)\n",
    "testspecificity= TN_TST / float(TN_TST+FP_TST)\n",
    "\n",
    "# Let us compare the values obtained for Train & Test:\n",
    "print('-'*30)\n",
    "print('On Train Data')\n",
    "print('-'*30)\n",
    "print(\"Accuracy    : {} %\".format(round((trainaccuracy*100),2)))\n",
    "print(\"Sensitivity : {} %\".format(round((trainsensitivity*100),2)))\n",
    "print(\"Specificity : {} %\".format(round((trainspecificity*100),2)))\n",
    "print('-'*30)\n",
    "print('On Test Data')\n",
    "print('-'*30)\n",
    "print(\"Accuracy    : {} %\".format(round((testaccuracy*100),2)))\n",
    "print(\"Sensitivity : {} %\".format(round((testsensitivity*100),2)))\n",
    "print(\"Specificity : {} %\".format(round((testspecificity*100),2)))\n",
    "print('-'*30)"
   ]
  },
  {
   "cell_type": "markdown",
   "id": "7e86f4be",
   "metadata": {},
   "source": [
    "### Question 3"
   ]
  },
  {
   "cell_type": "code",
   "execution_count": null,
   "id": "c976c930",
   "metadata": {},
   "outputs": [],
   "source": []
  },
  {
   "cell_type": "markdown",
   "id": "6abd3c05",
   "metadata": {},
   "source": [
    "### Question 4"
   ]
  },
  {
   "cell_type": "code",
   "execution_count": null,
   "id": "0f703bea",
   "metadata": {},
   "outputs": [],
   "source": []
  }
 ],
 "metadata": {
  "kernelspec": {
   "display_name": "Python 3 (ipykernel)",
   "language": "python",
   "name": "python3"
  },
  "language_info": {
   "codemirror_mode": {
    "name": "ipython",
    "version": 3
   },
   "file_extension": ".py",
   "mimetype": "text/x-python",
   "name": "python",
   "nbconvert_exporter": "python",
   "pygments_lexer": "ipython3",
   "version": "3.10.6"
  }
 },
 "nbformat": 4,
 "nbformat_minor": 5
}
